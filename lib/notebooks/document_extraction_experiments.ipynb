{
 "cells": [
  {
   "cell_type": "markdown",
   "metadata": {},
   "source": [
    "## Sample dataset contains pdf files of same type"
   ]
  },
  {
   "cell_type": "markdown",
   "metadata": {},
   "source": [
    "### Transform pdf files into ocr data in json format"
   ]
  },
  {
   "cell_type": "code",
   "execution_count": 9,
   "metadata": {},
   "outputs": [],
   "source": [
    "import os\n",
    "import sys\n",
    "from glob import glob\n",
    "import pandas as pd\n",
    "sys.path.append('/home/nikhil/development/projects/document-extraction/lib/')\n",
    "import json\n",
    "\n",
    "from extraction.pdf.PDFExtractor import PDFExtractor\n"
   ]
  },
  {
   "cell_type": "code",
   "execution_count": 79,
   "metadata": {},
   "outputs": [],
   "source": [
    "def train(label_texts, value_texts):\n",
    "    for label in label_texts:\n",
    "        for value in value_texts:            \n",
    "            dLeft = int(label['left']) - int(value['left'])\n",
    "            dTop = int(label['top']) - int(value['top']))\n",
    "            print(\"({},{}) - ({},{}) = ({},{})\".format(label['left'], label['top'], value['left'], value['top'], dLeft, dTop))\n",
    "        \n",
    "    \n",
    "    "
   ]
  },
  {
   "cell_type": "code",
   "execution_count": 80,
   "metadata": {},
   "outputs": [
    {
     "name": "stdout",
     "output_type": "stream",
     "text": [
      "Extracting OCR data from PDF File \n",
      "./document_extraction/data/invoicefiles/2168.pdf\n",
      "PDF Data Extracted\n",
      "OCR Extraction Completed\n",
      "Saving extracted OCR to JSON File\n",
      "2168.pdf.json\n",
      "Saved extracted OCR to JSON File\n",
      "\n",
      "Extracting OCR data from PDF File \n",
      "./document_extraction/data/invoicefiles/2126.pdf\n",
      "PDF Data Extracted\n",
      "OCR Extraction Completed\n",
      "Saving extracted OCR to JSON File\n",
      "2126.pdf.json\n",
      "Saved extracted OCR to JSON File\n",
      "\n",
      "Extracting OCR data from PDF File \n",
      "./document_extraction/data/invoicefiles/2178.pdf\n",
      "PDF Data Extracted\n",
      "OCR Extraction Completed\n",
      "Saving extracted OCR to JSON File\n",
      "2178.pdf.json\n",
      "Saved extracted OCR to JSON File\n",
      "\n",
      "Extracting OCR data from PDF File \n",
      "./document_extraction/data/invoicefiles/2124.pdf\n",
      "PDF Data Extracted\n",
      "OCR Extraction Completed\n",
      "Saving extracted OCR to JSON File\n",
      "2124.pdf.json\n",
      "Saved extracted OCR to JSON File\n",
      "\n",
      "Extracting OCR data from PDF File \n",
      "./document_extraction/data/invoicefiles/2123.pdf\n",
      "PDF Data Extracted\n",
      "OCR Extraction Completed\n",
      "Saving extracted OCR to JSON File\n",
      "2123.pdf.json\n",
      "Saved extracted OCR to JSON File\n",
      "\n",
      "Extracting OCR data from PDF File \n",
      "./document_extraction/data/invoicefiles/2122.pdf\n",
      "PDF Data Extracted\n",
      "OCR Extraction Completed\n",
      "Saving extracted OCR to JSON File\n",
      "2122.pdf.json\n",
      "Saved extracted OCR to JSON File\n",
      "\n",
      "Extracting OCR data from PDF File \n",
      "./document_extraction/data/invoicefiles/2125.pdf\n",
      "PDF Data Extracted\n",
      "OCR Extraction Completed\n",
      "Saving extracted OCR to JSON File\n",
      "2125.pdf.json\n",
      "Saved extracted OCR to JSON File\n",
      "\n",
      "Extracting OCR data from PDF File \n",
      "./document_extraction/data/invoicefiles/2167.pdf\n",
      "PDF Data Extracted\n",
      "OCR Extraction Completed\n",
      "Saving extracted OCR to JSON File\n",
      "2167.pdf.json\n",
      "Saved extracted OCR to JSON File\n",
      "\n"
     ]
    }
   ],
   "source": [
    "invoice_pdf_files_glob = glob(\"./document_extraction/data/invoicefiles/*.pdf\")\n",
    "for invoice_pdf_file_path in invoice_pdf_files_glob:\n",
    "    pdf_file_name = os.path.basename(invoice_pdf_file_path)\n",
    "    \n",
    "    print(\"Extracting OCR data from PDF File \\n{}\".format(invoice_pdf_file_path))\n",
    "    pdf_extractor = PDFExtractor(invoice_pdf_file_path)\n",
    "    text_boxes = pdf_extractor.extract_data()\n",
    "    print(\"OCR Extraction Completed\")\n",
    "    \n",
    "    print(\"Saving extracted OCR to JSON File\")\n",
    "    text_boxes_df = pd.DataFrame(text_boxes)\n",
    "    ocr_json_file_name = str(pdf_file_name) + '.json'\n",
    "    print(ocr_json_file_name)\n",
    "    text_boxes_df.to_json('./document_extraction/data/ocrfiles/' + ocr_json_file_name, orient='records')\n",
    "    print(\"Saved extracted OCR to JSON File\\n\")\n",
    "    "
   ]
  },
  {
   "cell_type": "markdown",
   "metadata": {},
   "source": [
    "### Read annotated data and train model"
   ]
  },
  {
   "cell_type": "code",
   "execution_count": 81,
   "metadata": {},
   "outputs": [],
   "source": [
    "annotations_file = open(\"./document_extraction/data/annotations.json\", \"r\")"
   ]
  },
  {
   "cell_type": "code",
   "execution_count": 82,
   "metadata": {},
   "outputs": [],
   "source": [
    "annotations_json_string = annotations_file.read()\n",
    "annotations_file.close()"
   ]
  },
  {
   "cell_type": "code",
   "execution_count": 83,
   "metadata": {},
   "outputs": [],
   "source": [
    "annotations_json = json.loads(annotations_json_string)"
   ]
  },
  {
   "cell_type": "code",
   "execution_count": 85,
   "metadata": {},
   "outputs": [
    {
     "name": "stdout",
     "output_type": "stream",
     "text": [
      "2122.pdf\n",
      "Searching for field label=Invoice No.\n",
      "Label found\n",
      "Searching for field value=SEPLOWN1819-2122\n",
      "Value found\n",
      "(451,118) - (414,137) = (37,-19)\n",
      "\n",
      "\n",
      "2123.pdf\n",
      "Searching for field label=Invoice No.\n",
      "Label found\n",
      "Searching for field value=SEPLOWN1819-2123\n",
      "Value found\n",
      "(451,118) - (414,137) = (37,-19)\n",
      "\n",
      "\n",
      "2124.pdf\n",
      "Searching for field label=Invoice No.\n",
      "Label found\n",
      "Searching for field value=SEPLOWN1819-2124\n",
      "Value found\n",
      "(451,118) - (414,137) = (37,-19)\n",
      "\n",
      "\n",
      "2125.pdf\n",
      "Searching for field label=Invoice No.\n",
      "Label found\n",
      "Searching for field value=SEPLOWN1819-2125\n",
      "Value found\n",
      "(451,118) - (414,137) = (37,-19)\n",
      "(451,118) - (937,63) = (-486,55)\n",
      "(451,118) - (937,63) = (-486,55)\n",
      "\n",
      "\n",
      "2126.pdf\n",
      "Searching for field label=Invoice No.\n",
      "Label found\n",
      "Searching for field value=SEPLOWN1819-2126\n",
      "Value found\n",
      "(451,118) - (414,137) = (37,-19)\n",
      "(451,118) - (937,63) = (-486,55)\n",
      "\n",
      "\n",
      "2167.pdf\n",
      "Searching for field label=Invoice No.\n",
      "Label found\n",
      "Searching for field value=SEPLOWN1819-2167\n",
      "Value found\n",
      "(451,118) - (414,137) = (37,-19)\n",
      "(451,118) - (937,63) = (-486,55)\n",
      "\n",
      "\n",
      "2168.pdf\n",
      "Searching for field label=Invoice No.\n",
      "Label found\n",
      "Searching for field value=SEPLOWN1819-2168\n",
      "Value found\n",
      "(451,118) - (414,137) = (37,-19)\n",
      "(451,118) - (937,63) = (-486,55)\n",
      "(451,118) - (937,63) = (-486,55)\n",
      "\n",
      "\n",
      "2178.pdf\n",
      "Searching for field label=Invoice No.\n",
      "Label found\n",
      "Searching for field value=SEPLOWN1819-2178\n",
      "Value found\n",
      "(451,118) - (414,137) = (37,-19)\n",
      "\n",
      "\n"
     ]
    }
   ],
   "source": [
    "for annotatted_invoice in annotations_json:    \n",
    "    print(annotatted_invoice['invoice_file_name'])\n",
    "    invoice_json_file = open(\"./document_extraction/data/ocrfiles/{}.json\".format(annotatted_invoice['invoice_file_name']), \"r\")\n",
    "    invoice_json_string = invoice_json_file.read()\n",
    "    invoice_json = json.loads(invoice_json_string)\n",
    "    invoice_json_file.close()\n",
    "    \n",
    "    invoice_text_map = {}\n",
    "    for invoice_text in invoice_json:\n",
    "        text = invoice_text.get('text', '')\n",
    "        texts = invoice_text_map.get(text, [])\n",
    "        texts.append(invoice_text)    \n",
    "        invoice_text_map[text] = texts\n",
    "        \n",
    "    \n",
    "    for field in annotatted_invoice['invoice_info_fields']:\n",
    "        label_text = None;\n",
    "        value_text = None;\n",
    "        print(\"Searching for field label={}\".format(field['label']))\n",
    "        for text, invoice_text in invoice_text_map.items():\n",
    "            if text == field['label']:\n",
    "                print('Label found')\n",
    "                label_text = invoice_text\n",
    "        \n",
    "        print(\"Searching for field value={}\".format(field['value']))\n",
    "        for text, invoice_text in invoice_text_map.items():\n",
    "            if text == field['value']:\n",
    "                print('Value found')\n",
    "                value_text = invoice_text      \n",
    "                \n",
    "        train(label_text, value_text)    \n",
    "        print(\"\\n\")"
   ]
  },
  {
   "cell_type": "code",
   "execution_count": 93,
   "metadata": {},
   "outputs": [
    {
     "name": "stdout",
     "output_type": "stream",
     "text": [
      "Invoice Value =  SEPLOWN1819-2125\n",
      "Invoice Label =  Invoice No.\n",
      "Invoice Value =  SEPLOWN1819-2123\n",
      "Invoice Label =  Invoice No.\n",
      "Invoice Value =  SEPLOWN1819-2124\n",
      "Invoice Label =  Invoice No.\n",
      "Invoice Value =  SEPLOWN1819-2126\n",
      "Invoice Label =  Invoice No.\n",
      "Invoice Value =  SEPLOWN1819-2167\n",
      "Invoice Label =  Invoice No.\n",
      "Invoice Value =  SEPLOWN1819-2122\n",
      "Invoice Label =  Invoice No.\n",
      "Invoice Value =  SEPLOWN1819-2168\n",
      "Invoice Label =  Invoice No.\n",
      "Invoice Value =  SEPLOWN1819-2178\n",
      "Invoice Label =  Invoice No.\n"
     ]
    }
   ],
   "source": [
    "invoice_ocr_files_glob = glob(\"./document_extraction/data/ocrfiles/*.pdf.json\")\n",
    "for invoice_ocr_file_path in invoice_ocr_files_glob:\n",
    "    ocr_file_name = os.path.basename(invoice_ocr_file_path)\n",
    "    ocr_json_file =  open(invoice_ocr_file_path, \"r\")\n",
    "    ocr_json_file_string = ocr_json_file.read()\n",
    "    ocr_json_file.close()\n",
    "    ocr_json = json.loads(ocr_json_file_string)\n",
    "    \n",
    "    for text in ocr_json:\n",
    "        # Finding Invoice Label\n",
    "        if text['left'] == \"451\" and text['top'] == \"118\":\n",
    "            print(\"Invoice Label = \", text.get('text', ''))        \n",
    "        # Finding Invoice Value\n",
    "        elif text['left'] == \"414\" and text['top'] == \"137\":\n",
    "            print(\"Invoice Value = \", text.get('text', ''))\n",
    "            \n",
    "    "
   ]
  },
  {
   "cell_type": "code",
   "execution_count": null,
   "metadata": {},
   "outputs": [],
   "source": []
  }
 ],
 "metadata": {
  "kernelspec": {
   "display_name": "Python 3",
   "language": "python",
   "name": "python3"
  },
  "language_info": {
   "codemirror_mode": {
    "name": "ipython",
    "version": 3
   },
   "file_extension": ".py",
   "mimetype": "text/x-python",
   "name": "python",
   "nbconvert_exporter": "python",
   "pygments_lexer": "ipython3",
   "version": "3.5.2"
  }
 },
 "nbformat": 4,
 "nbformat_minor": 2
}
